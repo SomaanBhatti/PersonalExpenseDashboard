{
 "cells": [
  {
   "cell_type": "markdown",
   "id": "e0c625bb",
   "metadata": {},
   "source": [
    "Well well well. You are here. At my first solo project created by myself from scratch. This will have some... playful aspects (hopefully) and I guess a little insight of my inner thoughts. No filters. This is me. Enjoy :-)"
   ]
  },
  {
   "cell_type": "markdown",
   "id": "1ce767df",
   "metadata": {
    "vscode": {
     "languageId": "plaintext"
    }
   },
   "source": [
    "# The Great Beginning\n",
    "\n",
    "## Somaan's Personal Expense Dashboard\n",
    "\n",
    "This notebook houses all the code cells needed to load or create views of provided csv files for planned and actual spend.\n",
    "If it works as expected, we shall get some colourful pie charts depicting the spends of each planned and actual spends with categories as well as a third showing the difference. That third one will need extra thought to think about whether a pie chart is the best way to show that. Maybe a two-way bar chart. All in the journey of a new data scientist!"
   ]
  },
  {
   "cell_type": "markdown",
   "id": "a1f08606",
   "metadata": {},
   "source": [
    "### Setup\n",
    "Run the code cell below to set up the notebook. Remember to change the month."
   ]
  },
  {
   "cell_type": "code",
   "execution_count": null,
   "id": "9cf2fd86",
   "metadata": {},
   "outputs": [],
   "source": [
    "import pandas as pd\n",
    "import numpy as np\n",
    "import os\n",
    "\n",
    "#Change the month_figures below to the relevant month\n",
    "os.makedirs(\"March_figures\", exist_ok=True)"
   ]
  },
  {
   "cell_type": "markdown",
   "id": "f7348520",
   "metadata": {},
   "source": [
    "## Remaining Steps.\n",
    "\n",
    "The rest of the steps will take place in the following order.\n",
    "\n",
    "- Step 2: Load csv files\n",
    "\n",
    "- Step 3: Analyze Your Spending\n",
    "\n",
    "- Step 4: Visualize Spending\n",
    "\n",
    "- Step 5: Optional Improvements"
   ]
  },
  {
   "cell_type": "markdown",
   "id": "ac6f1b29",
   "metadata": {},
   "source": [
    "### Step 2: Load csv files\n",
    "\n",
    "The csv files in the github repository are named 'planned_spend_march.csv' and 'actual_spend_march.csv'. Both of these files will be loaded. \n",
    "It is good practice to check both files once loaded to see if the column headers match and you can make sense of them.\n"
   ]
  },
  {
   "cell_type": "code",
   "execution_count": null,
   "id": "a61719d0",
   "metadata": {},
   "outputs": [],
   "source": [
    "planned_spend = pd.read_csv('planned_spend_march.csv')\n",
    "actual_spend = pd.read_csv('actual_spend_march.csv')\n",
    "\n",
    "\n",
    "planned_spend.set_index('item_name', inplace=True)\n",
    "actual_spend.set_index('item_name', inplace=True)\n",
    "# Display the first few rows of each DataFrame to check the structure and headers\n",
    "print(\"Planned Spend DataFrame:\")\n",
    "print(planned_spend.tail())\n",
    "\n",
    "print(\"\\nActual Spend DataFrame:\")\n",
    "print(actual_spend.tail())\n",
    "\n"
   ]
  },
  {
   "cell_type": "markdown",
   "id": "8cb0b04d",
   "metadata": {},
   "source": [
    "### Playground\n",
    "Feel free to use the code cell below to play around with the dataframes. Do what you want. Go crazy!!!! ;-P"
   ]
  },
  {
   "cell_type": "code",
   "execution_count": null,
   "id": "1eb3d2ea",
   "metadata": {},
   "outputs": [],
   "source": []
  },
  {
   "cell_type": "markdown",
   "id": "8ccca4a7",
   "metadata": {},
   "source": [
    "### STEP 3: Analysis of Spending.\n",
    "\n",
    "This section will reveal general statistics of the data and over time can reveal trends such as regular over spending in a certain category. The first two code cells simply use the describe method on the grouped planned and actual spends by item group."
   ]
  },
  {
   "cell_type": "markdown",
   "id": "5b364880",
   "metadata": {},
   "source": [
    "#### Summary of statistics\n",
    "The total actual spend was about £20 higher than the planned amount. The categories in which the mean spend was higher than planned are fundamentals and fun, while the mean spend for future and miscellaneous was lower."
   ]
  },
  {
   "cell_type": "code",
   "execution_count": null,
   "id": "c98e7d09",
   "metadata": {},
   "outputs": [],
   "source": [
    "actual_total = actual_spend.loc[\"Total\", \"amount_GBP\"]\n",
    "print(f\"\\nActual total spend: £ {actual_total}\")\n",
    "\n",
    "planned_total = planned_spend.loc[\"Total\", \"amount_GBP\"]\n",
    "print(f\"Planned total spend: £ {planned_total}\")\n",
    "\n",
    "total_difference = actual_total - planned_total\n",
    "print(f\"Total difference: £ {total_difference:.2f}\")\n",
    "\n",
    "if actual_total < planned_total:\n",
    "    print(\"You spent less than planned.\")\n",
    "elif actual_total > planned_total:\n",
    "    print(\"You spent more than planned.\")\n",
    "else:\n",
    "    print(\"You spent exactly as planned.\")"
   ]
  },
  {
   "cell_type": "code",
   "execution_count": null,
   "id": "00bb981b",
   "metadata": {},
   "outputs": [],
   "source": [
    "# Group and sum by category\n",
    "planned_by_category = planned_spend.groupby(\"item_category\")[\"amount_GBP\"].sum()\n",
    "actual_by_category = actual_spend.groupby(\"item_category\")[\"amount_GBP\"].sum()\n",
    "\n",
    "# Build comparison DataFrame with all columns including an additional column for difference and percentage difference\n",
    "comparison = pd.DataFrame({\n",
    "    \"Planned\": planned_by_category,\n",
    "    \"Actual\": actual_by_category,\n",
    "    \"Difference\": actual_by_category - planned_by_category,\n",
    "    \"% Difference\": ((actual_by_category - planned_by_category) / planned_by_category) * 100\n",
    "}).round(2)\n",
    "\n",
    "# Display result\n",
    "print(comparison)"
   ]
  },
  {
   "cell_type": "markdown",
   "id": "4f1fdcd3",
   "metadata": {},
   "source": [
    "### Step 4: Visualise Spending\n",
    "\n",
    "Using matplotlib, we can create a bar chart to see the actual vs planned spend and the %difference. We can also create a pie chart for a breakdown of each category. Remember to change the code below for the relevant month."
   ]
  },
  {
   "cell_type": "code",
   "execution_count": null,
   "id": "c098df0d",
   "metadata": {},
   "outputs": [],
   "source": [
    "import matplotlib.pyplot as plt\n",
    "\n",
    "# --- Bar chart: Planned vs Actual spend ---\n",
    "comparison[[\"Planned\", \"Actual\"]].plot(\n",
    "    kind='bar',\n",
    "    figsize=(10, 6),\n",
    "    title='Planned vs Actual Spend by Category',\n",
    "    ylabel='Amount (£)',\n",
    "    xlabel='Item Category',\n",
    "    rot=45,\n",
    "    color=['#1f77b4','#ff7f0e']\n",
    ")\n",
    "plt.tight_layout()\n",
    "plt.grid(axis='y', linestyle='--')\n",
    "plt.legend()\n",
    "\n",
    "# Change the Month_figures below to the relevant month\n",
    "plt.savefig(\"March_figures/planned_vs_Actual_by_category.png\")\n",
    "plt.show()\n",
    "\n",
    "# --- Bar chart: % Difference ---\n",
    "comparison[\"% Difference\"].plot(\n",
    "    kind='bar',\n",
    "    figsize=(10, 6),\n",
    "    title='% Difference (Overspend or Underspend) by Category',\n",
    "    ylabel='% Over/Under',\n",
    "    xlabel='Item Category',\n",
    "    color=\"#b8d14a\",\n",
    "    rot=45\n",
    ")\n",
    "plt.axhline(0, color='gray', linestyle='--')\n",
    "plt.tight_layout()\n",
    "plt.grid(axis='y')\n",
    "# Change the Month_figures below to the relevant month\n",
    "plt.savefig(\"March_figures/bar_category_comparison_%.png\")\n",
    "plt.show()"
   ]
  },
  {
   "cell_type": "markdown",
   "id": "f22c96bb",
   "metadata": {},
   "source": [
    "We can also add a pie chart for each category so we can see the distribution of money within each item group in each category.\n",
    "\n",
    "#### Reminder: Change the code to save the figure to the relevant folder for the relevant month"
   ]
  },
  {
   "cell_type": "code",
   "execution_count": null,
   "id": "72a4dee3",
   "metadata": {},
   "outputs": [],
   "source": [
    "# Custom function to show £ values instead of %\n",
    "def format_pound_labels(pct, allvals):\n",
    "    absolute = int(round(pct / 100. * sum(allvals)))\n",
    "    return f\"£{absolute}\"\n",
    "\n",
    "# Loop through each category and generate a pie chart with £ labels\n",
    "for category in actual_spend[\"item_category\"].dropna().unique():\n",
    "    category_data = actual_spend[actual_spend[\"item_category\"] == category]\n",
    "    group_totals = category_data.groupby(\"item_group\")[\"amount_GBP\"].sum()\n",
    "\n",
    "    plt.figure(figsize=(6, 6))\n",
    "    plt.pie(\n",
    "        group_totals,\n",
    "        labels=group_totals.index,\n",
    "        # passing lambda pct: format_pound_labels(pct, group_totals) to autopct as an in-line function.\n",
    "        # autopct usually accepts a string format or a function that formats the percentage. \n",
    "        # This time the function is used to format the labels as pounds.\n",
    "        autopct=lambda pct: format_pound_labels(pct, group_totals),\n",
    "        startangle=90,\n",
    "        colors=plt.cm.tab20.colors\n",
    "    )\n",
    "    plt.title(f\"Spending Breakdown in '{category}' Category (£)\")\n",
    "    plt.axis('equal')\n",
    "    plt.tight_layout()\n",
    "\n",
    "    # Save the pie chart to the Month_figures folder\n",
    "    plt.savefig(f\"March_figures/pie_{category.strip().replace(' ', '_')}.png\")\n",
    "    plt.show()"
   ]
  },
  {
   "cell_type": "markdown",
   "id": "61331537",
   "metadata": {},
   "source": [
    "When making the pie charts, I decided against using a simple percentage figure. That's simply because we can visually see in a pie chart and make a rough estimate as to the percentage usage of money allocated to each category. What matters most is the actual value, so a custom function had to be created to change what the pie chart shows, instead of autopct."
   ]
  },
  {
   "cell_type": "markdown",
   "id": "c7bfc48f",
   "metadata": {},
   "source": [
    "### Step 5: Save figures\n",
    "\n",
    "It's important to save the figures as a visual representation of what's happened this month. Let's implement some code to create a folder unless it already exists and save the images. The code cell below is added to the start to create this folder and the additional lines below that are added to previous code to add this functionality automatically."
   ]
  },
  {
   "cell_type": "code",
   "execution_count": null,
   "id": "84167aab",
   "metadata": {},
   "outputs": [],
   "source": [
    "# import os\n",
    "# os.makedirs(\"March_figures\", exist_ok=True)\n",
    "\n",
    "#For bar charts\n",
    "#plt.savefig(\"March_figures/planned_vs_Actual_by_category.png\")\n",
    "\n",
    "#For pie charts\n",
    "#plt.savefig(f\"March_figures/pie_{category.strip().replace(' ', '_')}.png\")"
   ]
  }
 ],
 "metadata": {
  "kernelspec": {
   "display_name": "Python 3",
   "language": "python",
   "name": "python3"
  },
  "language_info": {
   "codemirror_mode": {
    "name": "ipython",
    "version": 3
   },
   "file_extension": ".py",
   "mimetype": "text/x-python",
   "name": "python",
   "nbconvert_exporter": "python",
   "pygments_lexer": "ipython3",
   "version": "3.12.1"
  }
 },
 "nbformat": 4,
 "nbformat_minor": 5
}
