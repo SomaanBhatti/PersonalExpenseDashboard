{
 "cells": [
  {
   "cell_type": "markdown",
   "id": "e0c625bb",
   "metadata": {},
   "source": [
    "Well well well. You are here. At my first solo project created by myself from scratch. This will have some... playful aspects (hopefully) and I guess a little insight of my inner thoughts. No filters. This is me. Enjoy :-)"
   ]
  },
  {
   "cell_type": "markdown",
   "id": "1ce767df",
   "metadata": {
    "vscode": {
     "languageId": "plaintext"
    }
   },
   "source": [
    "# The Great Beginning\n",
    "\n",
    "## Somaan's Personal Expense Dashboard\n",
    "\n",
    "This notebook houses all the code cells needed to load or create views of provided csv files for planned and actual spend.\n",
    "If it works as expected, we shall get some colourful pie charts depicting the spends of each planned and actual spends with categories as well as a third showing the difference. That third one will need extra thought to think about whether a pie chart is the best way to show that. Maybe a two-way bar chart. All in the journey of a new data scientist!"
   ]
  },
  {
   "cell_type": "markdown",
   "id": "a1f08606",
   "metadata": {},
   "source": [
    "### Setup\n",
    "Run the code cell below to set up the notebook"
   ]
  },
  {
   "cell_type": "code",
   "execution_count": 1,
   "id": "9cf2fd86",
   "metadata": {},
   "outputs": [],
   "source": [
    "import pandas as pd\n",
    "import numpy as np"
   ]
  },
  {
   "cell_type": "markdown",
   "id": "f7348520",
   "metadata": {},
   "source": [
    "## Remaining Steps.\n",
    "\n",
    "The rest of the steps will take place in the following order.\n",
    "\n",
    "- Step 2: Load csv files\n",
    "\n",
    "- Step 3: Analyze Your Spending\n",
    "\n",
    "- Step 4: Visualize Spending\n",
    "\n",
    "- Step 5: Optional Improvements"
   ]
  },
  {
   "cell_type": "markdown",
   "id": "ac6f1b29",
   "metadata": {},
   "source": [
    "### Step 2: Load csv files\n",
    "\n",
    "The csv files in the github repository are named 'planned_spend_march.csv' and 'actual_spend_march.csv'. Both of these files will be loaded. \n",
    "It is good practice to check both files once loaded to see if the column headers match and you can make sense of them.\n"
   ]
  },
  {
   "cell_type": "code",
   "execution_count": 77,
   "id": "a61719d0",
   "metadata": {},
   "outputs": [
    {
     "name": "stdout",
     "output_type": "stream",
     "text": [
      "Planned Spend DataFrame:\n",
      "               amount_GBP  item_category            item_group\n",
      "item_name                                                     \n",
      "Zakaat             340.00   Fundamentals               Charity\n",
      "Vacation Fund      360.00        Future          Entertainment\n",
      "Sadia               50.00  Miscellaneous                 Gifts\n",
      "Misc               100.00  Miscellaneous  Groceries + whatever\n",
      "Total             2495.59            NaN                   NaN\n",
      "\n",
      "Actual Spend DataFrame:\n",
      "               amount_GBP  item_category            item_group\n",
      "item_name                                                     \n",
      "Vacation Fund      120.00        Future          Entertainment\n",
      "Sadia               50.00  Miscellaneous                 Gifts\n",
      "Misc                56.13  Miscellaneous  Groceries + whatever\n",
      "Headphones          26.09            Fun         Entertainment\n",
      "Total             2516.98            NaN                   NaN\n"
     ]
    }
   ],
   "source": [
    "planned_spend = pd.read_csv('planned_spend_march.csv')\n",
    "actual_spend = pd.read_csv('actual_spend_march.csv')\n",
    "\n",
    "\n",
    "planned_spend.set_index('item_name', inplace=True)\n",
    "actual_spend.set_index('item_name', inplace=True)\n",
    "# Display the first few rows of each DataFrame to check the structure and headers\n",
    "print(\"Planned Spend DataFrame:\")\n",
    "print(planned_spend.tail())\n",
    "\n",
    "print(\"\\nActual Spend DataFrame:\")\n",
    "print(actual_spend.tail())\n",
    "\n"
   ]
  },
  {
   "cell_type": "markdown",
   "id": "8cb0b04d",
   "metadata": {},
   "source": [
    "### Playground\n",
    "Feel free to use the code cell below to play around with the dataframes. Do what you want. Go crazy!!!! ;-P"
   ]
  },
  {
   "cell_type": "code",
   "execution_count": null,
   "id": "1eb3d2ea",
   "metadata": {},
   "outputs": [],
   "source": []
  },
  {
   "cell_type": "markdown",
   "id": "8ccca4a7",
   "metadata": {},
   "source": [
    "### STEP 3: Analysis of Spending.\n",
    "\n",
    "This section will reveal general statistics of the data and over time can reveal trends such as regular over spending in a certain category. The first two code cells simply use the describe method on the grouped planned and actual spends by item group."
   ]
  },
  {
   "cell_type": "markdown",
   "id": "5b364880",
   "metadata": {},
   "source": [
    "#### Summary of statistics\n",
    "The total actual spend was about £20 higher than the planned amount. The categories in which the mean spend was higher than planned are fundamentals and fun, while the mean spend for future and miscellaneous was lower."
   ]
  },
  {
   "cell_type": "code",
   "execution_count": 78,
   "id": "c98e7d09",
   "metadata": {},
   "outputs": [
    {
     "name": "stdout",
     "output_type": "stream",
     "text": [
      "\n",
      "Actual total spend: £ 2516.98\n",
      "Planned total spend: £ 2495.59\n",
      "Total difference: £ 21.39\n",
      "You spent more than planned.\n"
     ]
    }
   ],
   "source": [
    "actual_total = actual_spend.loc[\"Total\", \"amount_GBP\"]\n",
    "print(f\"\\nActual total spend: £ {actual_total}\")\n",
    "\n",
    "planned_total = planned_spend.loc[\"Total\", \"amount_GBP\"]\n",
    "print(f\"Planned total spend: £ {planned_total}\")\n",
    "\n",
    "total_difference = actual_total - planned_total\n",
    "print(f\"Total difference: £ {total_difference:.2f}\")\n",
    "\n",
    "if actual_total < planned_total:\n",
    "    print(\"You spent less than planned.\")\n",
    "elif actual_total > planned_total:\n",
    "    print(\"You spent more than planned.\")\n",
    "else:\n",
    "    print(\"You spent exactly as planned.\")"
   ]
  },
  {
   "cell_type": "code",
   "execution_count": null,
   "id": "00bb981b",
   "metadata": {},
   "outputs": [
    {
     "name": "stdout",
     "output_type": "stream",
     "text": [
      "               Planned   Actual  Difference  % Difference\n",
      "item_category                                            \n",
      "Fun              68.97   175.63      106.66        154.65\n",
      "Fundamentals   1761.40  1893.61      132.21          7.51\n",
      "Future          515.22   341.61     -173.61        -33.70\n",
      "Miscellaneous   150.00   106.13      -43.87        -29.25\n"
     ]
    }
   ],
   "source": [
    "# Group and sum by category\n",
    "planned_by_category = planned_spend.groupby(\"item_category\")[\"amount_GBP\"].sum()\n",
    "actual_by_category = actual_spend.groupby(\"item_category\")[\"amount_GBP\"].sum()\n",
    "\n",
    "# Build comparison DataFrame with all columns including an additional column for difference and percentage difference\n",
    "comparison = pd.DataFrame({\n",
    "    \"Planned\": planned_by_category,\n",
    "    \"Actual\": actual_by_category,\n",
    "    \"Difference\": actual_by_category - planned_by_category,\n",
    "    \"% Difference\": ((actual_by_category - planned_by_category) / planned_by_category) * 100\n",
    "}).round(2)\n",
    "\n",
    "# Display result\n",
    "print(comparison)"
   ]
  }
 ],
 "metadata": {
  "kernelspec": {
   "display_name": "Python 3",
   "language": "python",
   "name": "python3"
  },
  "language_info": {
   "codemirror_mode": {
    "name": "ipython",
    "version": 3
   },
   "file_extension": ".py",
   "mimetype": "text/x-python",
   "name": "python",
   "nbconvert_exporter": "python",
   "pygments_lexer": "ipython3",
   "version": "3.12.1"
  }
 },
 "nbformat": 4,
 "nbformat_minor": 5
}
