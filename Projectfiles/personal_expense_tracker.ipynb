{
 "cells": [
  {
   "cell_type": "markdown",
   "id": "e0c625bb",
   "metadata": {},
   "source": [
    "Well well well. You are here. At my first solo project created by myself from scratch. This will have some... playful aspects (hopefully) and I guess a little insight of my inner thoughts. No filters. This is me. Enjoy :-)"
   ]
  },
  {
   "cell_type": "markdown",
   "id": "1ce767df",
   "metadata": {
    "vscode": {
     "languageId": "plaintext"
    }
   },
   "source": [
    "# The Great Beginning\n",
    "\n",
    "## Somaan's Personal Expense Dashboard\n",
    "\n",
    "This notebook houses all the code cells needed to load or create views of provided csv files for planned and actual spend.\n",
    "If it works as expected, we shall get some colourful pie charts depicting the spends of each planned and actual spends with categories as well as a third showing the difference. That third one will need extra thought to think about whether a pie chart is the best way to show that. Maybe a two-way bar chart. All in the journey of a new data scientist!"
   ]
  },
  {
   "cell_type": "markdown",
   "id": "a1f08606",
   "metadata": {},
   "source": [
    "### Setup\n",
    "Run the code cell below to set up the notebook"
   ]
  },
  {
   "cell_type": "code",
   "execution_count": null,
   "id": "9cf2fd86",
   "metadata": {},
   "outputs": [],
   "source": [
    "import pandas as pd\n",
    "import numpy as np"
   ]
  },
  {
   "cell_type": "markdown",
   "id": "f7348520",
   "metadata": {},
   "source": [
    "## Remaining Steps.\n",
    "\n",
    "The rest of the steps will take place in the following order.\n",
    "\n",
    "- Step 2: Load csv files\n",
    "\n",
    "- Step 3: Analyze Your Spending\n",
    "\n",
    "- Step 4: Visualize Spending\n",
    "\n",
    "- Step 5: Optional Improvements"
   ]
  },
  {
   "cell_type": "markdown",
   "id": "ac6f1b29",
   "metadata": {},
   "source": [
    "### Step 2: Load csv files\n",
    "\n",
    "The csv files in the github repository are named 'planned_spend_march.csv' and 'actual_spend_march.csv'. Both of these files will be loaded. \n",
    "It is good practice to check both files once loaded to see if the column headers match and you can make sense of them.\n"
   ]
  },
  {
   "cell_type": "code",
   "execution_count": 2,
   "id": "a61719d0",
   "metadata": {},
   "outputs": [
    {
     "name": "stdout",
     "output_type": "stream",
     "text": [
      "Planned Spend DataFrame:\n",
      "      item_name  amount_GBP item_category       item_group\n",
      "0          rent      1300.0  Fundamentals  Living Expenses\n",
      "1           tfl        17.6  Fundamentals           Travel\n",
      "2  Lunch @ work         8.8  Fundamentals  Living Expenses\n",
      "3    Phone Bill        20.0  Fundamentals  Living Expenses\n",
      "4      Coursera        38.0       Future         Education\n",
      "\n",
      "Actual Spend DataFrame:\n",
      "      item_name  amount_GBP item_category       item_group\n",
      "0          rent      1300.0  Fundamentals  Living Expenses\n",
      "1           tfl         0.0  Fundamentals           Travel\n",
      "2  Lunch @ work         0.0  Fundamentals  Living Expenses\n",
      "3    Phone Bill        20.0  Fundamentals  Living Expenses\n",
      "4      Coursera        38.0       Future         Education\n"
     ]
    }
   ],
   "source": [
    "planned_spend = pd.read_csv('planned_spend_march.csv')\n",
    "actual_spend = pd.read_csv('actual_spend_march.csv')\n",
    "\n",
    "# Display the first few rows of each DataFrame to check the structure and headers\n",
    "print(\"Planned Spend DataFrame:\")\n",
    "print(planned_spend.head())\n",
    "\n",
    "print(\"\\nActual Spend DataFrame:\")\n",
    "print(actual_spend.head())"
   ]
  },
  {
   "cell_type": "markdown",
   "id": "8cb0b04d",
   "metadata": {},
   "source": [
    "### Playground\n",
    "Feel free to use the code cell below to play around with the dataframes. Do what you want. Go crazy!!!! ;-P"
   ]
  },
  {
   "cell_type": "code",
   "execution_count": null,
   "id": "586a1f85",
   "metadata": {},
   "outputs": [
    {
     "data": {
      "text/html": [
       "<div>\n",
       "<style scoped>\n",
       "    .dataframe tbody tr th:only-of-type {\n",
       "        vertical-align: middle;\n",
       "    }\n",
       "\n",
       "    .dataframe tbody tr th {\n",
       "        vertical-align: top;\n",
       "    }\n",
       "\n",
       "    .dataframe thead tr th {\n",
       "        text-align: left;\n",
       "    }\n",
       "\n",
       "    .dataframe thead tr:last-of-type th {\n",
       "        text-align: right;\n",
       "    }\n",
       "</style>\n",
       "<table border=\"1\" class=\"dataframe\">\n",
       "  <thead>\n",
       "    <tr>\n",
       "      <th></th>\n",
       "      <th colspan=\"8\" halign=\"left\">amount_GBP</th>\n",
       "    </tr>\n",
       "    <tr>\n",
       "      <th></th>\n",
       "      <th>count</th>\n",
       "      <th>mean</th>\n",
       "      <th>std</th>\n",
       "      <th>min</th>\n",
       "      <th>25%</th>\n",
       "      <th>50%</th>\n",
       "      <th>75%</th>\n",
       "      <th>max</th>\n",
       "    </tr>\n",
       "    <tr>\n",
       "      <th>item_category</th>\n",
       "      <th></th>\n",
       "      <th></th>\n",
       "      <th></th>\n",
       "      <th></th>\n",
       "      <th></th>\n",
       "      <th></th>\n",
       "      <th></th>\n",
       "      <th></th>\n",
       "    </tr>\n",
       "  </thead>\n",
       "  <tbody>\n",
       "    <tr>\n",
       "      <th>Fun</th>\n",
       "      <td>3.0</td>\n",
       "      <td>22.990000</td>\n",
       "      <td>32.055578</td>\n",
       "      <td>3.98</td>\n",
       "      <td>4.485</td>\n",
       "      <td>4.99</td>\n",
       "      <td>32.495</td>\n",
       "      <td>60.0</td>\n",
       "    </tr>\n",
       "    <tr>\n",
       "      <th>Fundamentals</th>\n",
       "      <td>7.0</td>\n",
       "      <td>251.628571</td>\n",
       "      <td>477.317790</td>\n",
       "      <td>8.80</td>\n",
       "      <td>16.300</td>\n",
       "      <td>20.00</td>\n",
       "      <td>200.000</td>\n",
       "      <td>1300.0</td>\n",
       "    </tr>\n",
       "    <tr>\n",
       "      <th>Future</th>\n",
       "      <td>5.0</td>\n",
       "      <td>103.044000</td>\n",
       "      <td>144.039056</td>\n",
       "      <td>25.00</td>\n",
       "      <td>37.220</td>\n",
       "      <td>38.00</td>\n",
       "      <td>55.000</td>\n",
       "      <td>360.0</td>\n",
       "    </tr>\n",
       "    <tr>\n",
       "      <th>Miscellaneous</th>\n",
       "      <td>2.0</td>\n",
       "      <td>75.000000</td>\n",
       "      <td>35.355339</td>\n",
       "      <td>50.00</td>\n",
       "      <td>62.500</td>\n",
       "      <td>75.00</td>\n",
       "      <td>87.500</td>\n",
       "      <td>100.0</td>\n",
       "    </tr>\n",
       "  </tbody>\n",
       "</table>\n",
       "</div>"
      ],
      "text/plain": [
       "              amount_GBP                                                \\\n",
       "                   count        mean         std    min     25%    50%   \n",
       "item_category                                                            \n",
       "Fun                  3.0   22.990000   32.055578   3.98   4.485   4.99   \n",
       "Fundamentals         7.0  251.628571  477.317790   8.80  16.300  20.00   \n",
       "Future               5.0  103.044000  144.039056  25.00  37.220  38.00   \n",
       "Miscellaneous        2.0   75.000000   35.355339  50.00  62.500  75.00   \n",
       "\n",
       "                                \n",
       "                   75%     max  \n",
       "item_category                   \n",
       "Fun             32.495    60.0  \n",
       "Fundamentals   200.000  1300.0  \n",
       "Future          55.000   360.0  \n",
       "Miscellaneous   87.500   100.0  "
      ]
     },
     "execution_count": 6,
     "metadata": {},
     "output_type": "execute_result"
    }
   ],
   "source": [
    "grouped_planned_spend = planned_spend.groupby('item_category')\n",
    "grouped_planned_spend.describe()\n"
   ]
  },
  {
   "cell_type": "code",
   "execution_count": 7,
   "id": "1eb3d2ea",
   "metadata": {},
   "outputs": [
    {
     "data": {
      "text/html": [
       "<div>\n",
       "<style scoped>\n",
       "    .dataframe tbody tr th:only-of-type {\n",
       "        vertical-align: middle;\n",
       "    }\n",
       "\n",
       "    .dataframe tbody tr th {\n",
       "        vertical-align: top;\n",
       "    }\n",
       "\n",
       "    .dataframe thead tr th {\n",
       "        text-align: left;\n",
       "    }\n",
       "\n",
       "    .dataframe thead tr:last-of-type th {\n",
       "        text-align: right;\n",
       "    }\n",
       "</style>\n",
       "<table border=\"1\" class=\"dataframe\">\n",
       "  <thead>\n",
       "    <tr>\n",
       "      <th></th>\n",
       "      <th colspan=\"8\" halign=\"left\">amount_GBP</th>\n",
       "    </tr>\n",
       "    <tr>\n",
       "      <th></th>\n",
       "      <th>count</th>\n",
       "      <th>mean</th>\n",
       "      <th>std</th>\n",
       "      <th>min</th>\n",
       "      <th>25%</th>\n",
       "      <th>50%</th>\n",
       "      <th>75%</th>\n",
       "      <th>max</th>\n",
       "    </tr>\n",
       "    <tr>\n",
       "      <th>item_category</th>\n",
       "      <th></th>\n",
       "      <th></th>\n",
       "      <th></th>\n",
       "      <th></th>\n",
       "      <th></th>\n",
       "      <th></th>\n",
       "      <th></th>\n",
       "      <th></th>\n",
       "    </tr>\n",
       "  </thead>\n",
       "  <tbody>\n",
       "    <tr>\n",
       "      <th>Fun</th>\n",
       "      <td>4.0</td>\n",
       "      <td>43.907500</td>\n",
       "      <td>65.242827</td>\n",
       "      <td>3.98</td>\n",
       "      <td>4.7375</td>\n",
       "      <td>15.540</td>\n",
       "      <td>54.7100</td>\n",
       "      <td>140.57</td>\n",
       "    </tr>\n",
       "    <tr>\n",
       "      <th>Fundamentals</th>\n",
       "      <td>7.0</td>\n",
       "      <td>270.515714</td>\n",
       "      <td>487.995770</td>\n",
       "      <td>0.00</td>\n",
       "      <td>7.5000</td>\n",
       "      <td>20.000</td>\n",
       "      <td>279.3050</td>\n",
       "      <td>1300.00</td>\n",
       "    </tr>\n",
       "    <tr>\n",
       "      <th>Future</th>\n",
       "      <td>5.0</td>\n",
       "      <td>68.322000</td>\n",
       "      <td>41.918235</td>\n",
       "      <td>25.00</td>\n",
       "      <td>38.0000</td>\n",
       "      <td>53.610</td>\n",
       "      <td>105.0000</td>\n",
       "      <td>120.00</td>\n",
       "    </tr>\n",
       "    <tr>\n",
       "      <th>Miscellaneous</th>\n",
       "      <td>2.0</td>\n",
       "      <td>53.065000</td>\n",
       "      <td>4.334565</td>\n",
       "      <td>50.00</td>\n",
       "      <td>51.5325</td>\n",
       "      <td>53.065</td>\n",
       "      <td>54.5975</td>\n",
       "      <td>56.13</td>\n",
       "    </tr>\n",
       "  </tbody>\n",
       "</table>\n",
       "</div>"
      ],
      "text/plain": [
       "              amount_GBP                                                  \\\n",
       "                   count        mean         std    min      25%     50%   \n",
       "item_category                                                              \n",
       "Fun                  4.0   43.907500   65.242827   3.98   4.7375  15.540   \n",
       "Fundamentals         7.0  270.515714  487.995770   0.00   7.5000  20.000   \n",
       "Future               5.0   68.322000   41.918235  25.00  38.0000  53.610   \n",
       "Miscellaneous        2.0   53.065000    4.334565  50.00  51.5325  53.065   \n",
       "\n",
       "                                  \n",
       "                    75%      max  \n",
       "item_category                     \n",
       "Fun             54.7100   140.57  \n",
       "Fundamentals   279.3050  1300.00  \n",
       "Future         105.0000   120.00  \n",
       "Miscellaneous   54.5975    56.13  "
      ]
     },
     "execution_count": 7,
     "metadata": {},
     "output_type": "execute_result"
    }
   ],
   "source": [
    "grouped_actual_spend = actual_spend.groupby('item_category')\n",
    "grouped_actual_spend.describe()"
   ]
  },
  {
   "cell_type": "code",
   "execution_count": null,
   "id": "dbcc9675",
   "metadata": {},
   "outputs": [],
   "source": []
  }
 ],
 "metadata": {
  "kernelspec": {
   "display_name": "Python 3",
   "language": "python",
   "name": "python3"
  },
  "language_info": {
   "codemirror_mode": {
    "name": "ipython",
    "version": 3
   },
   "file_extension": ".py",
   "mimetype": "text/x-python",
   "name": "python",
   "nbconvert_exporter": "python",
   "pygments_lexer": "ipython3",
   "version": "3.12.1"
  }
 },
 "nbformat": 4,
 "nbformat_minor": 5
}
