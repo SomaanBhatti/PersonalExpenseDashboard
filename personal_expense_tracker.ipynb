{
 "cells": [
  {
   "cell_type": "markdown",
   "id": "e0c625bb",
   "metadata": {},
   "source": [
    "Well well well. You are here. At my first solo project created by myself from scratch. This will have some... playful aspects (hopefully) and I guess a little insight of my inner thoughts. No filters. This is me. Enjoy :-)"
   ]
  },
  {
   "cell_type": "markdown",
   "id": "1ce767df",
   "metadata": {
    "vscode": {
     "languageId": "plaintext"
    }
   },
   "source": [
    "# The Great Beginning\n",
    "\n",
    "## Somaan's Personal Expense Dashboard\n",
    "\n",
    "This notebook houses all the code cells needed to load or create views of provided csv files for planned and actual spend.\n",
    "If it works as expected, we shall get some colourful pie charts depicting the spends of each planned and actual spends with categories as well as a third showing the difference. That third one will need extra thought to think about whether a pie chart is the best way to show that. Maybe a two-way bar chart. All in the journey of a new data scientist!"
   ]
  }
 ],
 "metadata": {
  "language_info": {
   "name": "python"
  }
 },
 "nbformat": 4,
 "nbformat_minor": 5
}
